{
 "cells": [
  {
   "cell_type": "markdown",
   "metadata": {},
   "source": [
    "# the usage of zip\n",
    "\n",
    "the zipped the element is tuple"
   ]
  },
  {
   "cell_type": "code",
   "execution_count": 23,
   "metadata": {},
   "outputs": [
    {
     "name": "stdout",
     "output_type": "stream",
     "text": [
      "[0, 1, 2, 3]\n",
      "[4, 5, 6, 7]\n",
      "[(1, 4), (2, 5), (3, 6)]\n"
     ]
    }
   ],
   "source": [
    "a= [1,2,3]\n",
    "b = [0]\n",
    "b.extend(a)\n",
    "print(b)\n",
    "c = [4, 5, 6, 7]\n",
    "print(c)\n",
    "\n",
    "d = list(zip(a,c))\n",
    "print(d)"
   ]
  },
  {
   "cell_type": "code",
   "execution_count": 14,
   "metadata": {
    "collapsed": true
   },
   "outputs": [],
   "source": [
    "d.sort(key=lambda x:x[1], reverse=True)"
   ]
  },
  {
   "cell_type": "code",
   "execution_count": 15,
   "metadata": {},
   "outputs": [
    {
     "name": "stdout",
     "output_type": "stream",
     "text": [
      "[(3, 6), (2, 5), (1, 4)]\n"
     ]
    }
   ],
   "source": [
    "print(d)"
   ]
  },
  {
   "cell_type": "code",
   "execution_count": 18,
   "metadata": {},
   "outputs": [
    {
     "name": "stdout",
     "output_type": "stream",
     "text": [
      "[(3, 2, 1), (6, 5, 4)]\n"
     ]
    }
   ],
   "source": [
    "a = zip(*d)\n",
    "print(list(a))"
   ]
  },
  {
   "cell_type": "code",
   "execution_count": 19,
   "metadata": {},
   "outputs": [
    {
     "name": "stdout",
     "output_type": "stream",
     "text": [
      "([1, 2], [5, 9])\n"
     ]
    }
   ],
   "source": [
    "k = ([1,2],[5,9])\n",
    "print(k)"
   ]
  },
  {
   "cell_type": "code",
   "execution_count": 20,
   "metadata": {},
   "outputs": [
    {
     "name": "stdout",
     "output_type": "stream",
     "text": [
      "[(1, 3), (2, 4)]\n"
     ]
    }
   ],
   "source": [
    "k=[[1,2],[3,4]]\n",
    "z= list(zip(*k))\n",
    "print(z)"
   ]
  },
  {
   "cell_type": "markdown",
   "metadata": {},
   "source": [
    "# Index_copy\n",
    "\n",
    "The function of index is to move the elements in one matrix to another matrix.\n"
   ]
  },
  {
   "cell_type": "code",
   "execution_count": 30,
   "metadata": {},
   "outputs": [
    {
     "data": {
      "text/plain": [
       "\n",
       " 7.0000  8.0000  9.0000\n",
       " 0.0000  0.0000  0.0000\n",
       " 0.0000  0.0000  0.0000\n",
       " 0.0000  0.0000  0.0000\n",
       "[torch.FloatTensor of size 4x3]"
      ]
     },
     "execution_count": 30,
     "metadata": {},
     "output_type": "execute_result"
    }
   ],
   "source": [
    "# index_copy\n",
    "import torch\n",
    "x = torch.Tensor(4, 3)\n",
    "t = torch.Tensor([[1, 2, 3], [4, 5, 6], [7, 8, 9]])\n",
    "index = torch.LongTensor([0, 0, 0])\n",
    "x.index_copy_(0, index, t)\n",
    "\n"
   ]
  },
  {
   "cell_type": "markdown",
   "metadata": {},
   "source": [
    "# index_select\n",
    "\n",
    "The function of index is to copy the elements in one matrix to another matrix."
   ]
  },
  {
   "cell_type": "code",
   "execution_count": 44,
   "metadata": {},
   "outputs": [
    {
     "name": "stdout",
     "output_type": "stream",
     "text": [
      "Variable containing:\n",
      " 0.5067 -0.8205 -1.8822 -1.1114\n",
      " 0.2530  1.2889  0.0020  0.5848\n",
      "-1.3547  2.1331  2.5738 -0.1907\n",
      "[torch.cuda.FloatTensor of size 3x4 (GPU 0)]\n",
      "\n"
     ]
    }
   ],
   "source": [
    "from torch.autograd import Variable\n",
    "x = torch.randn(3, 4)\n",
    "x = Variable(x.cuda())\n",
    "print(x)"
   ]
  },
  {
   "cell_type": "code",
   "execution_count": 50,
   "metadata": {},
   "outputs": [
    {
     "name": "stdout",
     "output_type": "stream",
     "text": [
      "Variable containing:\n",
      " 0\n",
      " 2\n",
      " 1\n",
      " 1\n",
      " 1\n",
      "[torch.cuda.LongTensor of size 5 (GPU 0)]\n",
      "\n",
      "Variable containing:\n",
      " 0.5067 -0.8205 -1.8822 -1.1114\n",
      "-1.3547  2.1331  2.5738 -0.1907\n",
      " 0.2530  1.2889  0.0020  0.5848\n",
      " 0.2530  1.2889  0.0020  0.5848\n",
      " 0.2530  1.2889  0.0020  0.5848\n",
      "[torch.cuda.FloatTensor of size 5x4 (GPU 0)]\n",
      "\n"
     ]
    }
   ],
   "source": [
    "indices = torch.LongTensor([0,2,1,1,1])\n",
    "indices = Variable(indices.cuda())\n",
    "print(indices)\n",
    "A = torch.index_select(x, 0, indices)\n",
    "print(A)"
   ]
  },
  {
   "cell_type": "markdown",
   "metadata": {},
   "source": [
    "Problem in implementation. \n",
    "In the network, the indices needs to be variables. "
   ]
  }
 ],
 "metadata": {
  "kernelspec": {
   "display_name": "Python 3",
   "language": "python",
   "name": "python3"
  },
  "language_info": {
   "codemirror_mode": {
    "name": "ipython",
    "version": 3
   },
   "file_extension": ".py",
   "mimetype": "text/x-python",
   "name": "python",
   "nbconvert_exporter": "python",
   "pygments_lexer": "ipython3",
   "version": "3.6.1"
  }
 },
 "nbformat": 4,
 "nbformat_minor": 2
}
